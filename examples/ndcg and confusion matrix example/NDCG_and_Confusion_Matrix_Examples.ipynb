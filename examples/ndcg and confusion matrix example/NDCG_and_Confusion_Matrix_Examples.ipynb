{
  "nbformat": 4,
  "nbformat_minor": 0,
  "metadata": {
    "colab": {
      "name": "NDCG and Confusion Matrix Examples.ipynb",
      "provenance": []
    },
    "kernelspec": {
      "name": "python3",
      "display_name": "Python 3"
    }
  },
  "cells": [
    {
      "cell_type": "markdown",
      "metadata": {
        "id": "e5xwLfSdPFMQ"
      },
      "source": [
        "This example is created as part of Grace Hopper Conference 2020, Open Sorce Day Workshop"
      ]
    },
    {
      "cell_type": "markdown",
      "metadata": {
        "id": "sHcDOfOebfp_"
      },
      "source": [
        "# Setup"
      ]
    },
    {
      "cell_type": "code",
      "metadata": {
        "id": "uvAQqLywblhG",
        "outputId": "847c78e4-1eb5-4a6a-b88a-98ef0d7e9e3d",
        "colab": {
          "base_uri": "https://localhost:8080/",
          "height": 309
        }
      },
      "source": [
        "!pip install metriks\n",
        "!pip install catboost"
      ],
      "execution_count": 224,
      "outputs": [
        {
          "output_type": "stream",
          "text": [
            "Requirement already satisfied: metriks in /usr/local/lib/python3.6/dist-packages (0.0.2)\n",
            "Requirement already satisfied: numpy in /usr/local/lib/python3.6/dist-packages (from metriks) (1.18.5)\n",
            "Requirement already satisfied: catboost in /usr/local/lib/python3.6/dist-packages (0.24.1)\n",
            "Requirement already satisfied: scipy in /usr/local/lib/python3.6/dist-packages (from catboost) (1.4.1)\n",
            "Requirement already satisfied: numpy>=1.16.0 in /usr/local/lib/python3.6/dist-packages (from catboost) (1.18.5)\n",
            "Requirement already satisfied: plotly in /usr/local/lib/python3.6/dist-packages (from catboost) (4.4.1)\n",
            "Requirement already satisfied: six in /usr/local/lib/python3.6/dist-packages (from catboost) (1.15.0)\n",
            "Requirement already satisfied: graphviz in /usr/local/lib/python3.6/dist-packages (from catboost) (0.10.1)\n",
            "Requirement already satisfied: pandas>=0.24.0 in /usr/local/lib/python3.6/dist-packages (from catboost) (1.1.2)\n",
            "Requirement already satisfied: matplotlib in /usr/local/lib/python3.6/dist-packages (from catboost) (3.2.2)\n",
            "Requirement already satisfied: retrying>=1.3.3 in /usr/local/lib/python3.6/dist-packages (from plotly->catboost) (1.3.3)\n",
            "Requirement already satisfied: pytz>=2017.2 in /usr/local/lib/python3.6/dist-packages (from pandas>=0.24.0->catboost) (2018.9)\n",
            "Requirement already satisfied: python-dateutil>=2.7.3 in /usr/local/lib/python3.6/dist-packages (from pandas>=0.24.0->catboost) (2.8.1)\n",
            "Requirement already satisfied: pyparsing!=2.0.4,!=2.1.2,!=2.1.6,>=2.0.1 in /usr/local/lib/python3.6/dist-packages (from matplotlib->catboost) (2.4.7)\n",
            "Requirement already satisfied: cycler>=0.10 in /usr/local/lib/python3.6/dist-packages (from matplotlib->catboost) (0.10.0)\n",
            "Requirement already satisfied: kiwisolver>=1.0.1 in /usr/local/lib/python3.6/dist-packages (from matplotlib->catboost) (1.2.0)\n"
          ],
          "name": "stdout"
        }
      ]
    },
    {
      "cell_type": "code",
      "metadata": {
        "id": "QwF_45i3c-t0"
      },
      "source": [
        "from catboost import CatBoost\n",
        "import numpy as np\n",
        "import pandas as pd\n",
        "import lightgbm as lgb\n",
        "import xgboost as xgb\n",
        "import metriks\n",
        "from sklearn.utils.extmath import softmax\n",
        "from sklearn.preprocessing import MinMaxScaler\n",
        "import seaborn as sn"
      ],
      "execution_count": 225,
      "outputs": []
    },
    {
      "cell_type": "markdown",
      "metadata": {
        "id": "4JDbmexddCxc"
      },
      "source": [
        "# Download a Benchmarck Dataset\n",
        "\n",
        "For this example we will use a shrunk version of [Microsofts Learning to Rank Dataset](https://www.microsoft.com/en-us/research/project/mslr/), availabe in [Catboost library datasets](https://catboost.ai/docs/concepts/python-reference_datasets.html)"
      ]
    },
    {
      "cell_type": "code",
      "metadata": {
        "id": "fu2RcrbNdg4w"
      },
      "source": [
        "from catboost.datasets import msrank_10k"
      ],
      "execution_count": 226,
      "outputs": []
    },
    {
      "cell_type": "markdown",
      "metadata": {
        "id": "gA_j0iJHeTkX"
      },
      "source": [
        "# Understanding Our Dataset"
      ]
    },
    {
      "cell_type": "markdown",
      "metadata": {
        "id": "BjYmFeOuffKb"
      },
      "source": [
        "Each row in the dataset is a query-url pair along with relevance label. Relevance labels are from 0 (irrelevant) to 4 (perfectly relevant).\n",
        "\n",
        "\"The first column is relevance label of the pair, the second column is query id, and the following columns are features. The larger value the relevance label has, the more relevant the query-url pair is.\" (from Microsoft's website)"
      ]
    },
    {
      "cell_type": "code",
      "metadata": {
        "id": "BTF7LJx5fD0D"
      },
      "source": [
        "train_df, test_df = msrank_10k()\n",
        "\n",
        "#train_df.sort_values([1])\n",
        "#test_df.sort_values([1])\n",
        "\n",
        "X_train = train_df.drop([0, 1], axis=1).values\n",
        "y_train = train_df[0].values\n",
        "queries_train = train_df[1].values\n",
        "\n",
        "X_test = test_df.drop([0, 1], axis=1).values\n",
        "y_test = test_df[0].values\n",
        "queries_test = test_df[1].values"
      ],
      "execution_count": 227,
      "outputs": []
    },
    {
      "cell_type": "code",
      "metadata": {
        "id": "Wt6Cpx8Fpr86",
        "outputId": "483f5353-b2c1-40e7-f4e9-23a59fe832c4",
        "colab": {
          "base_uri": "https://localhost:8080/",
          "height": 102
        }
      },
      "source": [
        "print(\"Train set size: \" + str(X_train.shape[0]))\n",
        "print(\"Test set size: \" + str(X_test.shape[0]))\n",
        "print(\"Number of features: \" + str(X_train.shape[1]))\n",
        "print(\"Number of unique train queries: \" + str(np.unique(queries_train).shape[0]))\n",
        "print(\"Number of unique test queries: \" + str(np.unique(queries_test).shape[0]))"
      ],
      "execution_count": 228,
      "outputs": [
        {
          "output_type": "stream",
          "text": [
            "Train set size: 10000\n",
            "Test set size: 10000\n",
            "Number of features: 136\n",
            "Number of unique train queries: 87\n",
            "Number of unique test queries: 88\n"
          ],
          "name": "stdout"
        }
      ]
    },
    {
      "cell_type": "markdown",
      "metadata": {
        "id": "iWdEuurlrML2"
      },
      "source": [
        "Distribution of labels in train set"
      ]
    },
    {
      "cell_type": "code",
      "metadata": {
        "id": "OuIYfedOgOfD",
        "outputId": "f5ad1460-05af-4222-ef64-21a8f995983c",
        "colab": {
          "base_uri": "https://localhost:8080/",
          "height": 282
        }
      },
      "source": [
        "pd.Series(y_train).hist()"
      ],
      "execution_count": 229,
      "outputs": [
        {
          "output_type": "execute_result",
          "data": {
            "text/plain": [
              "<matplotlib.axes._subplots.AxesSubplot at 0x7f5062cac438>"
            ]
          },
          "metadata": {
            "tags": []
          },
          "execution_count": 229
        },
        {
          "output_type": "display_data",
          "data": {
            "image/png": "[encoded data removed]",
            "text/plain": [
              "<Figure size 432x288 with 1 Axes>"
            ]
          },
          "metadata": {
            "tags": [],
            "needs_background": "light"
          }
        }
      ]
    },
    {
      "cell_type": "markdown",
      "metadata": {
        "id": "BghGCfQwr1tb"
      },
      "source": [
        "Distribution of labels in test set"
      ]
    },
    {
      "cell_type": "code",
      "metadata": {
        "id": "nZtx1cWbr85R",
        "outputId": "29723da3-8c0f-426f-812d-d979eea6a8e0",
        "colab": {
          "base_uri": "https://localhost:8080/",
          "height": 285
        }
      },
      "source": [
        "pd.Series(y_test).hist()"
      ],
      "execution_count": 230,
      "outputs": [
        {
          "output_type": "execute_result",
          "data": {
            "text/plain": [
              "<matplotlib.axes._subplots.AxesSubplot at 0x7f5062cd27b8>"
            ]
          },
          "metadata": {
            "tags": []
          },
          "execution_count": 230
        },
        {
          "output_type": "display_data",
          "data": {
            "image/png": "[encoded data removed]",
            "text/plain": [
              "<Figure size 432x288 with 1 Axes>"
            ]
          },
          "metadata": {
            "tags": [],
            "needs_background": "light"
          }
        }
      ]
    },
    {
      "cell_type": "markdown",
      "metadata": {
        "id": "3rbx16ijsGIQ"
      },
      "source": [
        "# Building Ranking Models"
      ]
    },
    {
      "cell_type": "markdown",
      "metadata": {
        "id": "SMbFfPGZxNLm"
      },
      "source": [
        "We will build two ranking models using LightGBM and XGBoost libraries, and train them with training data"
      ]
    },
    {
      "cell_type": "code",
      "metadata": {
        "id": "eTjJ8RQ11D03"
      },
      "source": [
        "count_of_urls_per_query = pd.Series(queries_train).value_counts().sort_index()"
      ],
      "execution_count": 231,
      "outputs": []
    },
    {
      "cell_type": "code",
      "metadata": {
        "id": "0BoLAZKnxF4a",
        "outputId": "c10fe5e4-a11d-4491-c46d-0ad190eb280e",
        "colab": {
          "base_uri": "https://localhost:8080/",
          "height": 119
        }
      },
      "source": [
        "lgb_ranker = lgb.LGBMRanker()\n",
        "lgb_ranker.fit(X_train, y_train, group=count_of_urls_per_query)"
      ],
      "execution_count": 232,
      "outputs": [
        {
          "output_type": "execute_result",
          "data": {
            "text/plain": [
              "LGBMRanker(boosting_type='gbdt', class_weight=None, colsample_bytree=1.0,\n",
              "           importance_type='split', learning_rate=0.1, max_depth=-1,\n",
              "           min_child_samples=20, min_child_weight=0.001, min_split_gain=0.0,\n",
              "           n_estimators=100, n_jobs=-1, num_leaves=31, objective=None,\n",
              "           random_state=None, reg_alpha=0.0, reg_lambda=0.0, silent=True,\n",
              "           subsample=1.0, subsample_for_bin=200000, subsample_freq=0)"
            ]
          },
          "metadata": {
            "tags": []
          },
          "execution_count": 232
        }
      ]
    },
    {
      "cell_type": "code",
      "metadata": {
        "id": "sG9kl8Rs2Bar",
        "outputId": "60683794-828e-400e-91fe-08b136dd63e3",
        "colab": {
          "base_uri": "https://localhost:8080/",
          "height": 119
        }
      },
      "source": [
        "xgb_ranker = xgb.XGBRanker()\n",
        "xgb_ranker.fit(X_train, y_train, group=count_of_urls_per_query)"
      ],
      "execution_count": 233,
      "outputs": [
        {
          "output_type": "execute_result",
          "data": {
            "text/plain": [
              "XGBRanker(base_score=0.5, booster='gbtree', colsample_bylevel=1,\n",
              "          colsample_bynode=1, colsample_bytree=1, gamma=0, learning_rate=0.1,\n",
              "          max_delta_step=0, max_depth=3, min_child_weight=1, missing=None,\n",
              "          n_estimators=100, n_jobs=-1, nthread=None, objective='rank:pairwise',\n",
              "          random_state=0, reg_alpha=0, reg_lambda=1, scale_pos_weight=1,\n",
              "          seed=None, silent=None, subsample=1, verbosity=1)"
            ]
          },
          "metadata": {
            "tags": []
          },
          "execution_count": 233
        }
      ]
    },
    {
      "cell_type": "markdown",
      "metadata": {
        "id": "NeoDbFYgx1p9"
      },
      "source": [
        "# Evaluating the Models"
      ]
    },
    {
      "cell_type": "code",
      "metadata": {
        "id": "lrv7szES6J6E"
      },
      "source": [
        "lgb_predictions = lgb_ranker.predict(X_test)\n",
        "xgb_predictions = xgb_ranker.predict(X_test)"
      ],
      "execution_count": 234,
      "outputs": []
    },
    {
      "cell_type": "code",
      "metadata": {
        "id": "URX92TyCexDo",
        "outputId": "12198a0e-af69-40db-cd22-a31683ab4c20",
        "colab": {
          "base_uri": "https://localhost:8080/",
          "height": 282
        }
      },
      "source": [
        "pd.Series(lgb_predictions).hist()"
      ],
      "execution_count": 235,
      "outputs": [
        {
          "output_type": "execute_result",
          "data": {
            "text/plain": [
              "<matplotlib.axes._subplots.AxesSubplot at 0x7f5062b3df28>"
            ]
          },
          "metadata": {
            "tags": []
          },
          "execution_count": 235
        },
        {
          "output_type": "display_data",
          "data": {
            "image/png": "[encoded data removed]",
            "text/plain": [
              "<Figure size 432x288 with 1 Axes>"
            ]
          },
          "metadata": {
            "tags": [],
            "needs_background": "light"
          }
        }
      ]
    },
    {
      "cell_type": "code",
      "metadata": {
        "id": "jc7VeTp46Be_",
        "outputId": "6474f472-1d7d-4964-c27e-38e0de207597",
        "colab": {
          "base_uri": "https://localhost:8080/",
          "height": 282
        }
      },
      "source": [
        "pd.Series(xgb_predictions).hist()"
      ],
      "execution_count": 236,
      "outputs": [
        {
          "output_type": "execute_result",
          "data": {
            "text/plain": [
              "<matplotlib.axes._subplots.AxesSubplot at 0x7f5062ad0240>"
            ]
          },
          "metadata": {
            "tags": []
          },
          "execution_count": 236
        },
        {
          "output_type": "display_data",
          "data": {
            "image/png": "[encoded data removed]",
            "text/plain": [
              "<Figure size 432x288 with 1 Axes>"
            ]
          },
          "metadata": {
            "tags": [],
            "needs_background": "light"
          }
        }
      ]
    },
    {
      "cell_type": "markdown",
      "metadata": {
        "id": "mmM2ygEae7ob"
      },
      "source": [
        "We need the predicted probabilites to be in range [0,1], so we scale them to the desired range"
      ]
    },
    {
      "cell_type": "code",
      "metadata": {
        "id": "GxWzfAzqjc-B"
      },
      "source": [
        "'''scaler = MinMaxScaler()\n",
        "lgb_predictions = scaler.fit_transform(np.array([lgb_predictions]).reshape(-1, 1)).reshape(1, -1)\n",
        "xgb_predictions = scaler.fit_transform(np.array([xgb_predictions]).reshape(-1, 1)).reshape(1, -1)'''\n",
        "lgb_predictions = softmax(np.array([lgb_predictions]))\n",
        "xgb_predictions = softmax(np.array([xgb_predictions]))"
      ],
      "execution_count": 237,
      "outputs": []
    },
    {
      "cell_type": "code",
      "metadata": {
        "id": "6m3RobmdsbSx",
        "outputId": "4a0f926f-5634-4282-a89d-5642d69de5ae",
        "colab": {
          "base_uri": "https://localhost:8080/",
          "height": 282
        }
      },
      "source": [
        "pd.Series(lgb_predictions[0]).hist()"
      ],
      "execution_count": 238,
      "outputs": [
        {
          "output_type": "execute_result",
          "data": {
            "text/plain": [
              "<matplotlib.axes._subplots.AxesSubplot at 0x7f5062abdcc0>"
            ]
          },
          "metadata": {
            "tags": []
          },
          "execution_count": 238
        },
        {
          "output_type": "display_data",
          "data": {
            "image/png": "[encoded data removed]",
            "text/plain": [
              "<Figure size 432x288 with 1 Axes>"
            ]
          },
          "metadata": {
            "tags": [],
            "needs_background": "light"
          }
        }
      ]
    },
    {
      "cell_type": "code",
      "metadata": {
        "id": "qEz_JuSGsqfC",
        "outputId": "28691942-f365-48de-eb35-a005c55ebfb6",
        "colab": {
          "base_uri": "https://localhost:8080/",
          "height": 282
        }
      },
      "source": [
        "pd.Series(xgb_predictions[0]).hist()"
      ],
      "execution_count": 239,
      "outputs": [
        {
          "output_type": "execute_result",
          "data": {
            "text/plain": [
              "<matplotlib.axes._subplots.AxesSubplot at 0x7f5062abdb00>"
            ]
          },
          "metadata": {
            "tags": []
          },
          "execution_count": 239
        },
        {
          "output_type": "display_data",
          "data": {
            "image/png": "[encoded data removed]",
            "text/plain": [
              "<Figure size 432x288 with 1 Axes>"
            ]
          },
          "metadata": {
            "tags": [],
            "needs_background": "light"
          }
        }
      ]
    },
    {
      "cell_type": "code",
      "metadata": {
        "id": "yjPv1RWGGIj0"
      },
      "source": [
        "max_relevance = np.max(y_train)\n",
        "y_test /= max_relevance #ndcg function requires values in [0,1] range"
      ],
      "execution_count": 240,
      "outputs": []
    },
    {
      "cell_type": "code",
      "metadata": {
        "id": "u67Chb6AjDr0",
        "outputId": "60fbb1af-2853-4da5-ac91-55af01d6a7a1",
        "colab": {
          "base_uri": "https://localhost:8080/",
          "height": 285
        }
      },
      "source": [
        "pd.Series(y_test).hist()"
      ],
      "execution_count": 241,
      "outputs": [
        {
          "output_type": "execute_result",
          "data": {
            "text/plain": [
              "<matplotlib.axes._subplots.AxesSubplot at 0x7f5062a21be0>"
            ]
          },
          "metadata": {
            "tags": []
          },
          "execution_count": 241
        },
        {
          "output_type": "display_data",
          "data": {
            "image/png": "[encoded data removed]",
            "text/plain": [
              "<Figure size 432x288 with 1 Axes>"
            ]
          },
          "metadata": {
            "tags": [],
            "needs_background": "light"
          }
        }
      ]
    },
    {
      "cell_type": "code",
      "metadata": {
        "id": "Wh3ZlzJO8kQX",
        "outputId": "c4ad61fe-e974-477b-a6ab-41a9adfebd9e",
        "colab": {
          "base_uri": "https://localhost:8080/",
          "height": 34
        }
      },
      "source": [
        "metriks.ndcg(np.array([y_test]), lgb_predictions)"
      ],
      "execution_count": 242,
      "outputs": [
        {
          "output_type": "execute_result",
          "data": {
            "text/plain": [
              "0.8945146804214607"
            ]
          },
          "metadata": {
            "tags": []
          },
          "execution_count": 242
        }
      ]
    },
    {
      "cell_type": "code",
      "metadata": {
        "id": "hN5dIT_HTG0x",
        "outputId": "93f1bdfc-2b7a-4a8e-9c07-a746a53b2f54",
        "colab": {
          "base_uri": "https://localhost:8080/",
          "height": 34
        }
      },
      "source": [
        "metriks.ndcg(np.array([y_test]), xgb_predictions)"
      ],
      "execution_count": 243,
      "outputs": [
        {
          "output_type": "execute_result",
          "data": {
            "text/plain": [
              "0.8909599361726613"
            ]
          },
          "metadata": {
            "tags": []
          },
          "execution_count": 243
        }
      ]
    },
    {
      "cell_type": "markdown",
      "metadata": {
        "id": "5cXfhO2pZu83"
      },
      "source": [
        "**Based on NDCG evalution, the performance difference between the two models are almost negligible, and both have satisfactory performance for this sample dataset.**"
      ]
    },
    {
      "cell_type": "code",
      "metadata": {
        "id": "NGEg_OWkYYq3"
      },
      "source": [
        "#y_test[y_test==1]= 0.1\n",
        "#y_test[y_test==0] =1\n",
        "y_test[y_test<1] = 0"
      ],
      "execution_count": 248,
      "outputs": []
    },
    {
      "cell_type": "code",
      "metadata": {
        "id": "54fjwdBZo55B"
      },
      "source": [
        "def plot_confusion_matrix_at_k(true_labels,predictions,k,title='Confusion Matrix'):\n",
        "  tn, fp, fn, tp = metriks.confusion_matrix_at_k(np.array([y_test]), lgb_predictions,k=1)\n",
        "  n_samples = tn.shape[0]\n",
        "  df = pd.DataFrame([[np.sum(tn)/n_samples,np.sum(fp)/n_samples],[np.sum(fn)/n_samples,np.sum(tp)/n_samples]])\n",
        "  ax = sn.heatmap(df,annot=True)\n",
        "  ax.set(xlabel='Predicted Label', ylabel='True Label',title=title)"
      ],
      "execution_count": 249,
      "outputs": []
    },
    {
      "cell_type": "code",
      "metadata": {
        "id": "sFzGkvue8K6w",
        "outputId": "0c6aebd6-55ee-4035-e3dd-9b9becdfa673",
        "colab": {
          "base_uri": "https://localhost:8080/",
          "height": 295
        }
      },
      "source": [
        "plot_confusion_matrix_at_k(np.array([y_test]),lgb_predictions,1,title='Confusion Matrix for LightGBM Prediction')"
      ],
      "execution_count": 250,
      "outputs": [
        {
          "output_type": "display_data",
          "data": {
            "image/png": "[encoded data removed]",
            "text/plain": [
              "<Figure size 432x288 with 2 Axes>"
            ]
          },
          "metadata": {
            "tags": [],
            "needs_background": "light"
          }
        }
      ]
    },
    {
      "cell_type": "code",
      "metadata": {
        "id": "vUIyNcPlpRlo",
        "outputId": "2a8d3336-6475-4a68-da1c-a84d7662c298",
        "colab": {
          "base_uri": "https://localhost:8080/",
          "height": 295
        }
      },
      "source": [
        "plot_confusion_matrix_at_k(np.array([y_test]),xgb_predictions,1,title='Confusion Matrix for XGBoost Prediction')"
      ],
      "execution_count": 251,
      "outputs": [
        {
          "output_type": "display_data",
          "data": {
            "image/png": "[encoded data removed]",
            "text/plain": [
              "<Figure size 432x288 with 2 Axes>"
            ]
          },
          "metadata": {
            "tags": [],
            "needs_background": "light"
          }
        }
      ]
    }
  ]
}